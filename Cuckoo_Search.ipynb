{
  "nbformat": 4,
  "nbformat_minor": 0,
  "metadata": {
    "colab": {
      "provenance": [],
      "authorship_tag": "ABX9TyMlBHixYb4fD22h9yINuo3k",
      "include_colab_link": true
    },
    "kernelspec": {
      "name": "python3",
      "display_name": "Python 3"
    },
    "language_info": {
      "name": "python"
    }
  },
  "cells": [
    {
      "cell_type": "markdown",
      "metadata": {
        "id": "view-in-github",
        "colab_type": "text"
      },
      "source": [
        "<a href=\"https://colab.research.google.com/github/SnehaPrasanna1/bis-lab/blob/main/Cuckoo_Search.ipynb\" target=\"_parent\"><img src=\"https://colab.research.google.com/assets/colab-badge.svg\" alt=\"Open In Colab\"/></a>"
      ]
    },
    {
      "cell_type": "code",
      "execution_count": null,
      "metadata": {
        "colab": {
          "base_uri": "https://localhost:8080/"
        },
        "id": "-sXPjP3TSiQp",
        "outputId": "d13667f5-4d54-4252-9371-3d0966b12879"
      },
      "outputs": [
        {
          "output_type": "stream",
          "name": "stdout",
          "text": [
            "Best Solution: [-0.01930404 -0.03918222]\n",
            "Best Fitness: 0.0019078926323377121\n"
          ]
        }
      ],
      "source": [
        "import numpy as np\n",
        "from scipy.special import gamma\n",
        "\n",
        "# Define objective function to optimize\n",
        "def objective_function(x):\n",
        "    return np.sum(x**2)  # Example: minimize the sum of squares\n",
        "\n",
        "# Lévy flight step (simplified)\n",
        "def levy_flight(Lambda, dim):\n",
        "    sigma = (gamma(1 + Lambda) * np.sin(np.pi * Lambda / 2) / gamma((1 + Lambda) / 2)) ** (1 / Lambda)\n",
        "    return sigma * np.random.randn(dim)\n",
        "\n",
        "# Cuckoo Search Algorithm\n",
        "def cuckoo_search(objective_function, n_nests, max_iter, dim, pa=0.25):\n",
        "    nests = np.random.uniform(-10, 10, (n_nests, dim))  # Initialize nests randomly\n",
        "    fitness = np.array([objective_function(nest) for nest in nests])\n",
        "    best_nest = nests[np.argmin(fitness)]\n",
        "    best_fitness = np.min(fitness)\n",
        "\n",
        "    for _ in range(max_iter):\n",
        "        # Lévy flights\n",
        "        new_nests = np.array([nests[i] + levy_flight(1.5, dim) for i in range(n_nests)])\n",
        "        new_fitness = np.array([objective_function(n) for n in new_nests])\n",
        "\n",
        "        # Abandon worst nests and replace with new ones\n",
        "        worst = fitness > new_fitness\n",
        "        nests[worst] = new_nests[worst]\n",
        "        fitness[worst] = new_fitness[worst]\n",
        "\n",
        "        # Keep track of the best nest\n",
        "        if np.min(fitness) < best_fitness:\n",
        "            best_fitness = np.min(fitness)\n",
        "            best_nest = nests[np.argmin(fitness)]\n",
        "\n",
        "    return best_nest, best_fitness\n",
        "\n",
        "# Example usage\n",
        "best_nest, best_fitness = cuckoo_search(objective_function, n_nests=25, max_iter=100, dim=2)\n",
        "print(\"Best Solution:\", best_nest)\n",
        "print(\"Best Fitness:\", best_fitness)\n"
      ]
    }
  ]
}