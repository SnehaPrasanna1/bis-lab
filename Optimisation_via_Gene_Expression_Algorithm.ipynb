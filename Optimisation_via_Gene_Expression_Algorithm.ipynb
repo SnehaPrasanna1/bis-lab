{
  "nbformat": 4,
  "nbformat_minor": 0,
  "metadata": {
    "colab": {
      "provenance": [],
      "authorship_tag": "ABX9TyMQ5Jk7IezvbkVgoKFMHIFA",
      "include_colab_link": true
    },
    "kernelspec": {
      "name": "python3",
      "display_name": "Python 3"
    },
    "language_info": {
      "name": "python"
    }
  },
  "cells": [
    {
      "cell_type": "markdown",
      "metadata": {
        "id": "view-in-github",
        "colab_type": "text"
      },
      "source": [
        "<a href=\"https://colab.research.google.com/github/SnehaPrasanna1/bis-lab/blob/main/Optimisation_via_Gene_Expression_Algorithm.ipynb\" target=\"_parent\"><img src=\"https://colab.research.google.com/assets/colab-badge.svg\" alt=\"Open In Colab\"/></a>"
      ]
    },
    {
      "cell_type": "code",
      "execution_count": null,
      "metadata": {
        "id": "brBatWreKMPo",
        "outputId": "0988a18f-34b5-4ce1-c36b-cba6d1213a96",
        "colab": {
          "base_uri": "https://localhost:8080/"
        }
      },
      "outputs": [
        {
          "output_type": "stream",
          "name": "stdout",
          "text": [
            "Best solution: -3.996309885732074e-05\n",
            "Best fitness: 1.5970492702799905e-09\n"
          ]
        }
      ],
      "source": [
        "import numpy as np\n",
        "\n",
        "# Define the problem: optimization function (example: minimize f(x) = x^2)\n",
        "def objective_function(x):\n",
        "    return x ** 2\n",
        "\n",
        "# Initialize parameters\n",
        "population_size = 100\n",
        "num_genes = 10\n",
        "mutation_rate = 0.1\n",
        "crossover_rate = 0.8\n",
        "generations = 100\n",
        "\n",
        "def initialize_population():\n",
        "    # Generate random genetic sequences within range [-10, 10]\n",
        "    return np.random.uniform(-10, 10, (population_size, num_genes))\n",
        "\n",
        "def evaluate_fitness(population):\n",
        "    # Translate genetic sequences into solutions and evaluate their fitness\n",
        "    solutions = np.mean(population, axis=1)  # Example: average of genes as solution\n",
        "    fitness = np.vectorize(objective_function)(solutions)\n",
        "    return fitness, solutions\n",
        "\n",
        "def select_parents(population, fitness):\n",
        "    # Select parents using tournament selection\n",
        "    selected = []\n",
        "    for _ in range(population_size):\n",
        "        i, j = np.random.choice(len(population), 2, replace=False)\n",
        "        selected.append(population[i] if fitness[i] < fitness[j] else population[j])\n",
        "    return np.array(selected)\n",
        "\n",
        "def crossover(parents):\n",
        "    # Perform crossover to generate offspring\n",
        "    offspring = parents.copy()\n",
        "    for i in range(0, population_size, 2):\n",
        "        if np.random.rand() < crossover_rate and i + 1 < population_size:\n",
        "            crossover_point = np.random.randint(1, num_genes)\n",
        "            offspring[i, crossover_point:], offspring[i + 1, crossover_point:] = (\n",
        "                offspring[i + 1, crossover_point:],\n",
        "                offspring[i, crossover_point:]\n",
        "            )\n",
        "    return offspring\n",
        "\n",
        "def mutate(offspring):\n",
        "    # Apply mutation to introduce variability\n",
        "    for individual in offspring:\n",
        "        for gene_index in range(num_genes):\n",
        "            if np.random.rand() < mutation_rate:\n",
        "                individual[gene_index] += np.random.uniform(-1, 1)  # Small random change\n",
        "    return offspring\n",
        "\n",
        "# Genetic algorithm loop\n",
        "population = initialize_population()\n",
        "best_solution = None\n",
        "best_fitness = float('inf')\n",
        "\n",
        "for generation in range(generations):\n",
        "    fitness, solutions = evaluate_fitness(population)\n",
        "    min_fitness_idx = np.argmin(fitness)\n",
        "\n",
        "    # Track best solution\n",
        "    if fitness[min_fitness_idx] < best_fitness:\n",
        "        best_fitness = fitness[min_fitness_idx]\n",
        "        best_solution = solutions[min_fitness_idx]\n",
        "\n",
        "    # Selection\n",
        "    parents = select_parents(population, fitness)\n",
        "\n",
        "    # Crossover\n",
        "    offspring = crossover(parents)\n",
        "\n",
        "    # Mutation\n",
        "    population = mutate(offspring)\n",
        "\n",
        "# Output the best solution found\n",
        "print(f\"Best solution: {best_solution}\")\n",
        "print(f\"Best fitness: {best_fitness}\")\n"
      ]
    }
  ]
}