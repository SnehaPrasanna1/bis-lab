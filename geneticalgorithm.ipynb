{
  "nbformat": 4,
  "nbformat_minor": 0,
  "metadata": {
    "colab": {
      "provenance": [],
      "authorship_tag": "ABX9TyN0B6a7TJiKE58MNkzmtt1w",
      "include_colab_link": true
    },
    "kernelspec": {
      "name": "python3",
      "display_name": "Python 3"
    },
    "language_info": {
      "name": "python"
    }
  },
  "cells": [
    {
      "cell_type": "markdown",
      "metadata": {
        "id": "view-in-github",
        "colab_type": "text"
      },
      "source": [
        "<a href=\"https://colab.research.google.com/github/SnehaPrasanna1/bis-lab/blob/main/geneticalgorithm.ipynb\" target=\"_parent\"><img src=\"https://colab.research.google.com/assets/colab-badge.svg\" alt=\"Open In Colab\"/></a>"
      ]
    },
    {
      "cell_type": "code",
      "execution_count": null,
      "metadata": {
        "id": "MHf9chbDN_Hd",
        "outputId": "967fe31d-3b97-4645-976a-273b1bfa809e",
        "colab": {
          "base_uri": "https://localhost:8080/"
        }
      },
      "outputs": [
        {
          "output_type": "stream",
          "name": "stdout",
          "text": [
            "Best x: -9.742957374718344, f(x): 94.92521840557856\n"
          ]
        }
      ],
      "source": [
        "import numpy as np\n",
        "\n",
        "def fitness(x):\n",
        "    return x ** 2\n",
        "\n",
        "def select_parents(population, fitness_values):\n",
        "    total_fitness = sum(fitness_values)\n",
        "    probabilities = [f / total_fitness for f in fitness_values]\n",
        "    parents = np.random.choice(population, size=2, p=probabilities)\n",
        "    return parents\n",
        "\n",
        "def crossover(parent1, parent2):\n",
        "    alpha = np.random.rand()\n",
        "    offspring1 = alpha * parent1 + (1 - alpha) * parent2\n",
        "    offspring2 = (1 - alpha) * parent1 + alpha * parent2\n",
        "    return offspring1, offspring2\n",
        "\n",
        "def mutate(offspring, mutation_rate, range_min, range_max):\n",
        "    if np.random.rand() < mutation_rate:\n",
        "        return np.random.uniform(range_min, range_max)\n",
        "    return offspring\n",
        "\n",
        "def genetic_algorithm(pop_size=100, generations=50, mutation_rate=0.1, range_min=-10, range_max=10):\n",
        "    # Initialize population\n",
        "    population = np.random.uniform(range_min, range_max, pop_size)\n",
        "\n",
        "    for _ in range(generations):\n",
        "        fitness_values = [fitness(x) for x in population]\n",
        "\n",
        "        new_population = []\n",
        "        for _ in range(pop_size // 2):\n",
        "            parent1, parent2 = select_parents(population, fitness_values)\n",
        "            offspring1, offspring2 = crossover(parent1, parent2)\n",
        "            new_population.append(mutate(offspring1, mutation_rate, range_min, range_max))\n",
        "            new_population.append(mutate(offspring2, mutation_rate, range_min, range_max))\n",
        "\n",
        "        population = np.array(new_population)\n",
        "\n",
        "    # Final evaluation\n",
        "    fitness_values = [fitness(x) for x in population]\n",
        "    best_index = np.argmax(fitness_values)\n",
        "    best_solution = population[best_index]\n",
        "    best_fitness = fitness(best_solution)\n",
        "\n",
        "    return best_solution, best_fitness\n",
        "\n",
        "# Run the genetic algorithm\n",
        "best_x, best_value = genetic_algorithm()\n",
        "print(f\"Best x: {best_x}, f(x): {best_value}\")\n"
      ]
    }
  ]
}