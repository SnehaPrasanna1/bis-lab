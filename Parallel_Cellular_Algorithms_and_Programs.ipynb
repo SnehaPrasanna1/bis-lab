{
  "nbformat": 4,
  "nbformat_minor": 0,
  "metadata": {
    "colab": {
      "provenance": [],
      "authorship_tag": "ABX9TyMnj9mZfPxJJ7GXonzZsAZU",
      "include_colab_link": true
    },
    "kernelspec": {
      "name": "python3",
      "display_name": "Python 3"
    },
    "language_info": {
      "name": "python"
    }
  },
  "cells": [
    {
      "cell_type": "markdown",
      "metadata": {
        "id": "view-in-github",
        "colab_type": "text"
      },
      "source": [
        "<a href=\"https://colab.research.google.com/github/SnehaPrasanna1/bis-lab/blob/main/Parallel_Cellular_Algorithms_and_Programs.ipynb\" target=\"_parent\"><img src=\"https://colab.research.google.com/assets/colab-badge.svg\" alt=\"Open In Colab\"/></a>"
      ]
    },
    {
      "cell_type": "code",
      "execution_count": null,
      "metadata": {
        "colab": {
          "base_uri": "https://localhost:8080/"
        },
        "id": "AuqHm7r3Cx1Q",
        "outputId": "fd5ff64f-a7c8-4252-db05-cde47873da9b"
      },
      "outputs": [
        {
          "output_type": "stream",
          "name": "stdout",
          "text": [
            "Best solution: 0.005058129335134602\n",
            "Best fitness: 2.5584672370949212e-05\n"
          ]
        }
      ],
      "source": [
        "import numpy as np\n",
        "\n",
        "# Define the problem: optimization function (example: minimize f(x) = x^2)\n",
        "def objective_function(x):\n",
        "    return x ** 2\n",
        "\n",
        "# Initialize parameters\n",
        "num_cells = 100\n",
        "iterations = 100\n",
        "grid_size = 10\n",
        "neighborhood_size = 1  # Moore neighborhood with a radius of 1\n",
        "\n",
        "# Initialize population: random positions within [-10, 10]\n",
        "population = np.random.uniform(-10, 10, (grid_size, grid_size))\n",
        "\n",
        "# Function to evaluate fitness for each cell\n",
        "def evaluate_fitness(population):\n",
        "    return np.vectorize(objective_function)(population)\n",
        "\n",
        "# Function to update the state of each cell based on neighboring cells\n",
        "def update_population(population, fitness):\n",
        "    new_population = population.copy()\n",
        "    rows, cols = population.shape\n",
        "\n",
        "    for i in range(rows):\n",
        "        for j in range(cols):\n",
        "            # Get neighborhood cells using a wrapping grid (torus structure)\n",
        "            neighbors = [\n",
        "                population[(i + di) % rows, (j + dj) % cols]\n",
        "                for di in range(-neighborhood_size, neighborhood_size + 1)\n",
        "                for dj in range(-neighborhood_size, neighborhood_size + 1)\n",
        "                if not (di == 0 and dj == 0)\n",
        "            ]\n",
        "\n",
        "            # Update cell state using the average of neighbors (example rule)\n",
        "            new_population[i, j] = np.mean(neighbors)\n",
        "\n",
        "    return new_population\n",
        "\n",
        "# Iterate and update states\n",
        "best_solution = None\n",
        "best_fitness = float('inf')\n",
        "\n",
        "for iteration in range(iterations):\n",
        "    fitness = evaluate_fitness(population)\n",
        "    min_fitness = np.min(fitness)\n",
        "\n",
        "    # Track best solution found\n",
        "    if min_fitness < best_fitness:\n",
        "        best_fitness = min_fitness\n",
        "        best_solution = population[np.unravel_index(np.argmin(fitness), fitness.shape)]\n",
        "\n",
        "    # Update population\n",
        "    population = update_population(population, fitness)\n",
        "\n",
        "# Output the best solution found\n",
        "print(f\"Best solution: {best_solution}\")\n",
        "print(f\"Best fitness: {best_fitness}\")\n"
      ]
    },
    {
      "cell_type": "code",
      "source": [
        "import numpy as np\n",
        "\n",
        "# Problem definition: optimizing a simple mathematical function, e.g., f(x, y) = -(x^2 + y^2) (maximization)\n",
        "def fitness_function(x, y):\n",
        "    return -(x**2 + y**2)\n",
        "\n",
        "# Initialize parameters\n",
        "num_cells = 100  # Total number of cells\n",
        "grid_size = (10, 10)  # 2D grid size\n",
        "iterations = 100  # Number of iterations\n",
        "neighborhood_offsets = [(-1, 0), (1, 0), (0, -1), (0, 1)]  # 4-neighbor structure\n",
        "\n",
        "# Initialize population\n",
        "cells = np.random.uniform(-10, 10, (grid_size[0], grid_size[1], 2))  # Each cell has (x, y) position\n",
        "fitness_values = np.zeros(grid_size)\n",
        "\n",
        "# Evaluate initial fitness\n",
        "for i in range(grid_size[0]):\n",
        "    for j in range(grid_size[1]):\n",
        "        x, y = cells[i, j]\n",
        "        fitness_values[i, j] = fitness_function(x, y)\n",
        "\n",
        "# Update state based on neighbors\n",
        "def update_state(i, j):\n",
        "    global cells, fitness_values\n",
        "    current_fitness = fitness_values[i, j]\n",
        "    best_neighbor = (i, j)\n",
        "    best_fitness = current_fitness\n",
        "\n",
        "    for offset in neighborhood_offsets:\n",
        "        ni, nj = i + offset[0], j + offset[1]\n",
        "        if 0 <= ni < grid_size[0] and 0 <= nj < grid_size[1]:\n",
        "            if fitness_values[ni, nj] > best_fitness:\n",
        "                best_fitness = fitness_values[ni, nj]\n",
        "                best_neighbor = (ni, nj)\n",
        "\n",
        "    if best_neighbor != (i, j):\n",
        "        cells[i, j] = cells[best_neighbor]\n",
        "        fitness_values[i, j] = best_fitness\n",
        "\n",
        "# Main iteration loop\n",
        "for _ in range(iterations):\n",
        "    for i in range(grid_size[0]):\n",
        "        for j in range(grid_size[1]):\n",
        "            update_state(i, j)\n",
        "\n",
        "    # Re-evaluate fitness after update\n",
        "    for i in range(grid_size[0]):\n",
        "        for j in range(grid_size[1]):\n",
        "            x, y = cells[i, j]\n",
        "            fitness_values[i, j] = fitness_function(x, y)\n",
        "\n",
        "# Output the best solution found\n",
        "best_index = np.unravel_index(np.argmax(fitness_values, axis=None), fitness_values.shape)\n",
        "best_solution = cells[best_index]\n",
        "best_fitness = fitness_values[best_index]\n",
        "\n",
        "print(f\"Best solution found: {best_solution} with fitness {best_fitness}\")\n"
      ],
      "metadata": {
        "id": "VQOirlURDGsW",
        "outputId": "182a8fec-9f47-45f7-f515-0a9402b55021",
        "colab": {
          "base_uri": "https://localhost:8080/"
        }
      },
      "execution_count": null,
      "outputs": [
        {
          "output_type": "stream",
          "name": "stdout",
          "text": [
            "Best solution found: [-0.9659125  -0.35781047] with fitness -1.061015299756731\n"
          ]
        }
      ]
    }
  ]
}