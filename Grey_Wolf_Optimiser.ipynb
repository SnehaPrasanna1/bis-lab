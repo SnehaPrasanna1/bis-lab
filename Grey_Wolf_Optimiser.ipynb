{
  "nbformat": 4,
  "nbformat_minor": 0,
  "metadata": {
    "colab": {
      "provenance": [],
      "authorship_tag": "ABX9TyN2PQphttZX1ae16deSRLNz",
      "include_colab_link": true
    },
    "kernelspec": {
      "name": "python3",
      "display_name": "Python 3"
    },
    "language_info": {
      "name": "python"
    }
  },
  "cells": [
    {
      "cell_type": "markdown",
      "metadata": {
        "id": "view-in-github",
        "colab_type": "text"
      },
      "source": [
        "<a href=\"https://colab.research.google.com/github/SnehaPrasanna1/bis-lab/blob/main/Grey_Wolf_Optimiser.ipynb\" target=\"_parent\"><img src=\"https://colab.research.google.com/assets/colab-badge.svg\" alt=\"Open In Colab\"/></a>"
      ]
    },
    {
      "cell_type": "code",
      "execution_count": null,
      "metadata": {
        "colab": {
          "base_uri": "https://localhost:8080/"
        },
        "id": "0u1siblMWSbM",
        "outputId": "5eb9f128-e1ba-40c8-f8a8-20bbbfeb5737"
      },
      "outputs": [
        {
          "output_type": "stream",
          "name": "stdout",
          "text": [
            "Best Position: [-0.00038779 -0.00035811], Best Value: 2.786223879776991e-07\n"
          ]
        }
      ],
      "source": [
        "import numpy as np\n",
        "\n",
        "# Define the mathematical function to optimize (e.g., Sphere function)\n",
        "def objective_function(position):\n",
        "    return np.sum(position ** 2)\n",
        "\n",
        "# Initialize GWO parameters\n",
        "def gwo(num_wolves, dim, lower_bound, upper_bound, max_iter):\n",
        "    # Initialize the wolves' positions randomly\n",
        "    wolves = np.random.uniform(lower_bound, upper_bound, (num_wolves, dim))\n",
        "    fitness = np.array([objective_function(wolf) for wolf in wolves])\n",
        "\n",
        "    # Sort wolves by fitness and assign alpha, beta, delta\n",
        "    alpha, beta, delta = wolves[np.argsort(fitness)[:3]]\n",
        "\n",
        "    # GWO main loop\n",
        "    for iteration in range(max_iter):\n",
        "        for i in range(num_wolves):\n",
        "            for j in range(dim):\n",
        "                # Update coefficients\n",
        "                A1, A2, A3 = 2 * np.random.rand(3) - 1\n",
        "                C1, C2, C3 = 2 * np.random.rand(3)\n",
        "\n",
        "                # Update positions based on alpha, beta, and delta\n",
        "                D_alpha = abs(C1 * alpha[j] - wolves[i, j])\n",
        "                D_beta = abs(C2 * beta[j] - wolves[i, j])\n",
        "                D_delta = abs(C3 * delta[j] - wolves[i, j])\n",
        "\n",
        "                X1 = alpha[j] - A1 * D_alpha\n",
        "                X2 = beta[j] - A2 * D_beta\n",
        "                X3 = delta[j] - A3 * D_delta\n",
        "\n",
        "                wolves[i, j] = (X1 + X2 + X3) / 3\n",
        "\n",
        "        # Clamp positions within bounds\n",
        "        wolves = np.clip(wolves, lower_bound, upper_bound)\n",
        "\n",
        "        # Update fitness and hierarchy\n",
        "        fitness = np.array([objective_function(wolf) for wolf in wolves])\n",
        "        alpha, beta, delta = wolves[np.argsort(fitness)[:3]]\n",
        "\n",
        "    return alpha, objective_function(alpha)\n",
        "\n",
        "# Parameters\n",
        "num_wolves = 5\n",
        "dim = 2\n",
        "lower_bound = -10\n",
        "upper_bound = 10\n",
        "max_iter = 100\n",
        "\n",
        "# Run GWO\n",
        "best_position, best_value = gwo(num_wolves, dim, lower_bound, upper_bound, max_iter)\n",
        "print(f\"Best Position: {best_position}, Best Value: {best_value}\")\n"
      ]
    }
  ]
}